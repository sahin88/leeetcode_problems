{
  "nbformat": 4,
  "nbformat_minor": 0,
  "metadata": {
    "kernelspec": {
      "display_name": "Python 3",
      "language": "python",
      "name": "python3"
    },
    "language_info": {
      "codemirror_mode": {
        "name": "ipython",
        "version": 3
      },
      "file_extension": ".py",
      "mimetype": "text/x-python",
      "name": "python",
      "nbconvert_exporter": "python",
      "pygments_lexer": "ipython3",
      "version": "3.7.4"
    },
    "colab": {
      "name": "Data Structures Algorithm  Leetcode problem Solving -I.ipynb",
      "provenance": [],
      "collapsed_sections": [
        "awWeEiRAITP9",
        "8tsIKLsYITP9",
        "cIGnWD_LITP-",
        "VRF-wRUmITQA",
        "rwY4TZLzITQB",
        "xsyExGPkITQB",
        "Z3g4EG7NITQE",
        "TpqbiE2MITQF",
        "hWt0azZJITQH",
        "eiEAyTiWITQI",
        "IxUU9xwMITQI",
        "GkmCzwivITQI",
        "7UamLlEmITQJ",
        "s_GY6O_mITQK",
        "xj0iTMe-ITQL",
        "xvoYclz2ITQL",
        "r2Ijosd1ITQT",
        "a3RBhA_zITQT",
        "J0nnFmz6ITQU",
        "byl2tDLwITQV",
        "WWTN_qX5ITQW",
        "hVsfvwQQITQW",
        "FPsVbFrMITQX",
        "v1F0cWOaITQX",
        "prRRMmSnITQY",
        "fTpmMXC9ITQY",
        "2rH82K_6ITQY"
      ],
      "toc_visible": true
    }
  },
  "cells": [
    {
      "cell_type": "markdown",
      "metadata": {
        "id": "NCJDdLZZITPo"
      },
      "source": [
        "# Linked List"
      ]
    },
    {
      "cell_type": "code",
      "metadata": {
        "id": "TfdN2fnsITPx"
      },
      "source": [
        "\n",
        "\n",
        "class Node:\n",
        "\tdef __init__(self,data):\n",
        "\t\tself.data=data\n",
        "\t\tself.next=None\n",
        "class LinkedList:\n",
        "\tdef __init__(self):\n",
        "\t\tself.head=None\n",
        "\tdef print_list(self):\n",
        "\t\tprinted_data=self.head\n",
        "\t\twhile printed_data:\n",
        "\t\t\tprint(printed_data.data)\n",
        "\t\t\tprinted_data=printed_data.next\n",
        "\tdef append(self, data):\n",
        "\t\tnew_data=Node(data)\n",
        "\t\tif self.head is None:\n",
        "\t\t\tself.head=new_data\n",
        "\t\t\treturn\n",
        "\t\tlast_node=self.head\n",
        "\t\twhile last_node.next:\n",
        "\t\t\tlast_node=last_node.next\n",
        "\n",
        "\n",
        "\t\tlast_node.next=new_data\n",
        "\tdef append_first(self, data):\n",
        "\t\tnew_candidate=Node(data)\n",
        "\t\tif self.head.next:\n",
        "\t\t\tlast_first_node=self.head\n",
        "\t\t\tself.head=new_candidate\n",
        "\t\t\tself.head.next=last_first_node\n",
        "\tdef append_after(self, data, after_data):\n",
        "\t\tnew_candidate=Node(data)\n",
        "\t\tlast_node=self.head\n",
        "\t\twhile last_node.next:\n",
        "\t\t\tif last_node.next.data==after_data:\n",
        "\t\t\t\tafter_data=last_node.next\n",
        "\t\t\t\tnext_data=after_data.next\n",
        "\t\t\t\tafter_data.next=new_candidate\n",
        "\t\t\t\tnew_candidate.next=next_data\n",
        "\t\t\t\treturn\n",
        "\t\t\tlast_node=last_node.next\n",
        "\n",
        "\t\tlast_node.next=new_candidate\n",
        "\tdef delete_node(self,key):\n",
        "\t\tcur_node=self.head\n",
        "\t\tif cur_node and cur_node.data==key:\n",
        "\t\t\tself.head=cur_node.next\n",
        "\t\t\tcur_node=None\n",
        "\t\t\treturn\n",
        "\t\twhile cur_node and cur_node.next.data!=key:\n",
        "\t\t\tprev=cur_node\n",
        "\t\t\tcur_node=cur_node.next\n",
        "\t\tprev.next=cur_node.next\n",
        "\t\tcur_node=None\n",
        "\n",
        "\n",
        "def main(listing):\n",
        "    print(\"listing\",listing)\n",
        "    for item in  listing:\n",
        "            print(item)\n",
        "\n"
      ],
      "execution_count": null,
      "outputs": []
    },
    {
      "cell_type": "code",
      "metadata": {
        "id": "c-5gXSBRITPz",
        "outputId": "66c9cbc1-4d94-420f-9ef1-52911c446522"
      },
      "source": [
        "linked_list=LinkedList()\n",
        "linked_list.append('A')\n",
        "linked_list.append('B')\n",
        "linked_list.append('C')\n",
        "linked_list.append_first('D')\n",
        "linked_list.append_after('X', 'B')\n",
        "linked_list.print_list()\n"
      ],
      "execution_count": null,
      "outputs": [
        {
          "output_type": "stream",
          "text": [
            "D\n",
            "A\n",
            "B\n",
            "X\n",
            "C\n"
          ],
          "name": "stdout"
        }
      ]
    },
    {
      "cell_type": "markdown",
      "metadata": {
        "id": "8vIDA8IzITP1"
      },
      "source": [
        "# Buble Sort"
      ]
    },
    {
      "cell_type": "code",
      "metadata": {
        "id": "Y3UlVA7HITP2",
        "outputId": "314b7d07-97cc-40ae-d8a0-48072e9ee02d"
      },
      "source": [
        "\n",
        "\n",
        "def buble_sort(listing):\n",
        "    bos_listing=[]\n",
        "    for index, item in enumerate(listing):\n",
        "        for sub_index in range(len(listing)-2):\n",
        "            if listing[sub_index]> listing[sub_index+1]:\n",
        "                small =listing[sub_index+1]\n",
        "                big= listing[sub_index]\n",
        "                listing[sub_index+1]=big\n",
        "                listing[sub_index]=small\n",
        "    return listing\n",
        "\n",
        "print(buble_sort([3,2,1,4,5]))\n"
      ],
      "execution_count": null,
      "outputs": [
        {
          "output_type": "stream",
          "text": [
            "[1, 2, 3, 4, 5]\n"
          ],
          "name": "stdout"
        }
      ]
    },
    {
      "cell_type": "markdown",
      "metadata": {
        "id": "o5EPS4v5ITP3"
      },
      "source": [
        "# Bloom Filter"
      ]
    },
    {
      "cell_type": "code",
      "metadata": {
        "id": "ZwJSx7W6ITP4",
        "outputId": "15e2e284-f55d-4f75-aaa6-50b9354a4651"
      },
      "source": [
        "\n",
        "\n",
        "import pyhash\n",
        "\n",
        "vector=[0]*20 #\n",
        "fnv=pyhash.fnv1_32()\n",
        "murmur=pyhash.murmur3_32()\n",
        "print('pikachu_fnv',fnv('pikachu'))\n",
        "print('charmender_fnv',fnv('charmender'))\n",
        "print('pikachu_murmur',murmur('pikachu'))\n",
        "print('charmender_murmur',murmur('charmender'))\n",
        "\n",
        "vector[fnv('pikachu')%20]=1\n",
        "vector[fnv('charmender')%20]=1\n",
        "vector[murmur('pikachu')%20]=1\n",
        "vector[murmur('charmender')%20]=1\n",
        "\n",
        "print(vector)\n",
        "if vector[fnv('balbasaur')%20]==1 or vector[murmur('balbasaur')%20]==1:\n",
        "\tprint('the searched item could be in the  data')\n"
      ],
      "execution_count": null,
      "outputs": [
        {
          "output_type": "stream",
          "text": [
            "pikachu_fnv 4102553239\n",
            "charmender_fnv 2566730391\n",
            "pikachu_murmur 506591634\n",
            "charmender_murmur 216890969\n",
            "[0, 0, 0, 0, 0, 0, 0, 0, 0, 1, 0, 1, 0, 0, 1, 0, 0, 0, 0, 1]\n",
            "the searched item could be in the  data\n"
          ],
          "name": "stdout"
        }
      ]
    },
    {
      "cell_type": "markdown",
      "metadata": {
        "id": "s7J-0KpAITP4"
      },
      "source": [
        "# Binary to Integer"
      ]
    },
    {
      "cell_type": "code",
      "metadata": {
        "id": "PnWavSuKITP5",
        "outputId": "8b9d9658-a12a-43fb-f71f-444192866162"
      },
      "source": [
        "class Stack:\n",
        "\tdef __init__(self):\n",
        "\t\tself.items=[]\n",
        "\tdef push(self, item):\n",
        "\t\tself.items.append(item)\n",
        "\n",
        "\tdef pop(self):\n",
        "\t\treturn self.items.pop()\n",
        "\tdef peek(self):\n",
        "\t\tif not len(self.items)==0:\n",
        "\t\t\treturn self.items[-1]\n",
        "\tdef get_stack(self):\n",
        "\t\treturn self.items\n",
        "\n",
        "def binary_format(num):\n",
        "\ts=Stack()\n",
        "\n",
        "\twhile num>0:\n",
        "\t\tremain=num % 2\n",
        "\t\ts.push(remain)\n",
        "\t\tnum=num//2\n",
        "\tbinar=''\n",
        "\twhile len(s.get_stack())!=0:\n",
        "\t\tlat=s.pop()\n",
        "\t\tbinar+=str(lat)\n",
        "\treturn binar\n",
        "res=binary_format(242)\n",
        "print(res)\n",
        "print(int(str(res),2))\n",
        "\n"
      ],
      "execution_count": null,
      "outputs": [
        {
          "output_type": "stream",
          "text": [
            "11110010\n",
            "242\n"
          ],
          "name": "stdout"
        }
      ]
    },
    {
      "cell_type": "markdown",
      "metadata": {
        "id": "Pf9DEs67ITP5"
      },
      "source": [
        "# Finding Prime Number"
      ]
    },
    {
      "cell_type": "code",
      "metadata": {
        "id": "hUucA6DfITP6",
        "outputId": "d0ea750d-d0fd-4649-d797-5a76439c2f64"
      },
      "source": [
        "import time\n",
        "checking_prime_number=[items for items in range(1,30)]\n",
        "starting_time=time.perf_counter()\n",
        "for number in checking_prime_number:\n",
        "    const_nr=0\n",
        "    for sub_nr in range(1,number,1):\n",
        "        if sub_nr!=1 and number !=1 and number%sub_nr==0:\n",
        "            const_nr+=1\n",
        "\n",
        "    if const_nr==0:\n",
        "\n",
        "\n",
        "        print('{} is the prime nummber'.format(number))\n",
        "ending_time=time.perf_counter()\n",
        "print( 'Total amount of time  {}  in seconds'.format(ending_time-starting_time))"
      ],
      "execution_count": null,
      "outputs": [
        {
          "output_type": "stream",
          "text": [
            "1 is the prime nummber\n",
            "2 is the prime nummber\n",
            "3 is the prime nummber\n",
            "5 is the prime nummber\n",
            "7 is the prime nummber\n",
            "11 is the prime nummber\n",
            "13 is the prime nummber\n",
            "17 is the prime nummber\n",
            "19 is the prime nummber\n",
            "23 is the prime nummber\n",
            "29 is the prime nummber\n",
            "Total amount of time  0.005747612995037343  in seconds\n"
          ],
          "name": "stdout"
        }
      ]
    },
    {
      "cell_type": "markdown",
      "metadata": {
        "id": "2Qoki2DgITP7"
      },
      "source": [
        "# insertion selection"
      ]
    },
    {
      "cell_type": "code",
      "metadata": {
        "id": "4ZV093U-ITP8",
        "outputId": "d887c511-65da-43d3-ae1a-779b2e979347"
      },
      "source": [
        "\n",
        "data=[5,4,10,1,6,2]\n",
        "\n",
        "\n",
        "for index in range(1,len(data),1):\n",
        "\tfor sub_index in range(index-1,-1,-1):\n",
        "\t\ttemporar_item=data[sub_index+1]\n",
        "\t\tif data[sub_index]>temporar_item:\n",
        "\t\t\tremoved_item=data[sub_index] #5\n",
        "\t\t\ttemporar_item=data[sub_index+1]\n",
        "\t\t\tdata.pop(sub_index)\n",
        "\t\t\tdata.insert(sub_index,temporar_item)\n",
        "\t\t\tdata.pop(sub_index+1)#4\n",
        "\t\t\tdata.insert(sub_index+1,removed_item)\n",
        "\n",
        "print('data', data)"
      ],
      "execution_count": null,
      "outputs": [
        {
          "output_type": "stream",
          "text": [
            "data [1, 2, 4, 5, 6, 10]\n"
          ],
          "name": "stdout"
        }
      ]
    },
    {
      "cell_type": "markdown",
      "metadata": {
        "id": "qx6wEVnsITP8"
      },
      "source": [
        "# Palindrom Number"
      ]
    },
    {
      "cell_type": "code",
      "metadata": {
        "id": "BdwLi1qLITP8",
        "outputId": "260a834a-3226-47ec-82fc-66c5879c7166"
      },
      "source": [
        "\n",
        "import time\n",
        "for nr in range(100,1000,1):\n",
        "\tfor sub_nr in range(100,1000,1):\n",
        "\t\tmultiply=nr*sub_nr\n",
        "\t\tmultiply_rev=int(''.join(reversed(str(multiply))))\n",
        "\t\tif multiply == multiply_rev:\n",
        "\t\t\ttime.sleep(1)\n",
        "\t\t\tprint('Paliandrom  has been  found at with miltiplication of the numbers {} and {}  and the result is {}'.format(nr, sub_nr, multiply_rev))\n",
        "\n",
        "\n"
      ],
      "execution_count": null,
      "outputs": [
        {
          "output_type": "stream",
          "text": [
            "Paliandrom  has been  found at with miltiplication of the numbers 101 and 101  and the result is 10201\n",
            "Paliandrom  has been  found at with miltiplication of the numbers 101 and 111  and the result is 11211\n",
            "Paliandrom  has been  found at with miltiplication of the numbers 101 and 121  and the result is 12221\n",
            "Paliandrom  has been  found at with miltiplication of the numbers 101 and 131  and the result is 13231\n",
            "Paliandrom  has been  found at with miltiplication of the numbers 101 and 141  and the result is 14241\n",
            "Paliandrom  has been  found at with miltiplication of the numbers 101 and 151  and the result is 15251\n",
            "Paliandrom  has been  found at with miltiplication of the numbers 101 and 161  and the result is 16261\n",
            "Paliandrom  has been  found at with miltiplication of the numbers 101 and 171  and the result is 17271\n",
            "Paliandrom  has been  found at with miltiplication of the numbers 101 and 181  and the result is 18281\n",
            "Paliandrom  has been  found at with miltiplication of the numbers 101 and 191  and the result is 19291\n",
            "Paliandrom  has been  found at with miltiplication of the numbers 101 and 202  and the result is 20402\n",
            "Paliandrom  has been  found at with miltiplication of the numbers 101 and 212  and the result is 21412\n",
            "Paliandrom  has been  found at with miltiplication of the numbers 101 and 222  and the result is 22422\n",
            "Paliandrom  has been  found at with miltiplication of the numbers 101 and 232  and the result is 23432\n",
            "Paliandrom  has been  found at with miltiplication of the numbers 101 and 242  and the result is 24442\n",
            "Paliandrom  has been  found at with miltiplication of the numbers 101 and 252  and the result is 25452\n",
            "Paliandrom  has been  found at with miltiplication of the numbers 101 and 262  and the result is 26462\n",
            "Paliandrom  has been  found at with miltiplication of the numbers 101 and 272  and the result is 27472\n",
            "Paliandrom  has been  found at with miltiplication of the numbers 101 and 282  and the result is 28482\n",
            "Paliandrom  has been  found at with miltiplication of the numbers 101 and 292  and the result is 29492\n"
          ],
          "name": "stdout"
        }
      ]
    },
    {
      "cell_type": "code",
      "metadata": {
        "id": "r0fClGeOITP8"
      },
      "source": [
        "print(\"fjjjj\")"
      ],
      "execution_count": null,
      "outputs": []
    },
    {
      "cell_type": "markdown",
      "metadata": {
        "id": "awWeEiRAITP9"
      },
      "source": [
        "# 1029. Two City Scheduling"
      ]
    },
    {
      "cell_type": "code",
      "metadata": {
        "id": "1sfgjsbKITP9",
        "outputId": "4768516c-b645-44da-e2da-ea8b53303421"
      },
      "source": [
        "input_val_1=[[515,563],[451,713],[537,709],[343,819],[855,779],[457,60],[650,359],[631,42]]\n",
        "input_val_2=[[259,770],[448,54],[926,667],[184,139],[840,118],[577,469]]\n",
        "def findMinCost(listing):\n",
        "    my_dict={}\n",
        "    my_keys=[]\n",
        "    min_cost=0\n",
        "    max_length= len(listing)/2\n",
        "    list_A=[]\n",
        "    list_B=[]\n",
        "    for item in listing:\n",
        "        difference=abs(item[0]-item[1])\n",
        "        my_keys.append(difference)\n",
        "        my_dict[difference]=item\n",
        "    for i in range(len(my_keys)):\n",
        "        max_key= max(my_keys)\n",
        "        \n",
        "        my_keys.remove(max_key)\n",
        "        max_val=my_dict[max_key]\n",
        "        if max_val[0]>max_val[1] and len(list_A)<max_length:\n",
        "            list_A.append(max_val)\n",
        "            min_cost+=max_val[1]\n",
        "        elif max_val[0]<max_val[1] and len(list_B)<max_length:\n",
        "            list_B.append(max_val)\n",
        "            min_cost+=max_val[0]\n",
        "            \n",
        "        elif len(list_B)>=max_length:\n",
        "            list_A.append(max_val)\n",
        "            min_cost+=max_val[1]\n",
        "            \n",
        "        else:\n",
        "            list_B.append(max_val)\n",
        "            min_cost+=max_val[0]\n",
        "            \n",
        "    return min_cost\n",
        "    \n",
        "            \n",
        "    \n",
        "print(\"input_val_1\", findMinCost(input_val_1))           \n",
        "print(\"input_val_2\",findMinCost(input_val_2))   \n",
        "    \n",
        "    "
      ],
      "execution_count": null,
      "outputs": [
        {
          "output_type": "stream",
          "text": [
            "input_val_1 3086\n",
            "input_val_2 1859\n"
          ],
          "name": "stdout"
        }
      ]
    },
    {
      "cell_type": "markdown",
      "metadata": {
        "id": "8tsIKLsYITP9"
      },
      "source": [
        "# 953. Verifying an Alien Dictionary"
      ]
    },
    {
      "cell_type": "code",
      "metadata": {
        "id": "UMCdkiGIITP-",
        "outputId": "292d3d12-ff50-4303-8da6-b7ef39f2aa4c"
      },
      "source": [
        "\n",
        "\n",
        "words = [\"apple\",\"app\"]\n",
        "order = \"abcdefghijklmnopqrstuvwxyz\"\n",
        "def AlienDict(word_list, alphabet):\n",
        "    \n",
        "   \n",
        "    max_word_length=0\n",
        "    list_index=len(word_list)\n",
        "    max_word_length=max([len(word) for word in word_list])\n",
        "    my_dict={item:index+2 for index, item in enumerate(alphabet)}\n",
        "    for i in range(max_word_length-1):\n",
        "        to_be_sorted=[]\n",
        "        sorted_list=[]\n",
        "        for j in range(list_index):\n",
        "            val=None\n",
        "            try:\n",
        "                val=my_dict[word_list[j][i]]            \n",
        "            except Exception as e:\n",
        "                pass\n",
        "            if val:\n",
        "                to_be_sorted.append(val)\n",
        "                sorted_list.append(val)\n",
        "            else:\n",
        "                 return False    \n",
        "        if sorted_list==sorted(to_be_sorted):\n",
        "            if sorted_list==list(set(sorted_list)):\n",
        "                return True\n",
        "            else:\n",
        "                pass\n",
        "            \n",
        "        else:\n",
        "            return False           \n",
        "        \n",
        "    return True\n",
        "                \n",
        "        \n",
        "        \n",
        "\n",
        "print(AlienDict(words, order))"
      ],
      "execution_count": null,
      "outputs": [
        {
          "output_type": "stream",
          "text": [
            "False\n"
          ],
          "name": "stdout"
        }
      ]
    },
    {
      "cell_type": "markdown",
      "metadata": {
        "id": "cIGnWD_LITP-"
      },
      "source": [
        "# 443. String Compression"
      ]
    },
    {
      "cell_type": "code",
      "metadata": {
        "id": "O3kaLg54ITP-",
        "outputId": "be4473d1-13fb-4e38-b6f8-01e12b17ddae"
      },
      "source": [
        "\n",
        "\n",
        "\n",
        "def StringSum(listing):\n",
        "    \n",
        "    res=\"\"\n",
        "    for itm in listing:\n",
        "        \n",
        "        \n",
        "        res+=str(itm)\n",
        "        \n",
        "    return res\n",
        "\n",
        "def StringComprehension(data):\n",
        "    previous=data[0]\n",
        "  \n",
        "    counter=1\n",
        "    prod_list=[]\n",
        "    prod_list.append(data[0])\n",
        "    if len(data)==1:\n",
        "        prod_list.append(counter)\n",
        "        \n",
        "        return StringSum(prod_list)\n",
        "    \n",
        "    for indx, itm in enumerate(data[1:]):\n",
        "        \n",
        "        if  previous != itm:\n",
        "            prod_list.append(counter)\n",
        "            counter=1\n",
        "            previous=itm \n",
        "            prod_list.append(itm)\n",
        "      \n",
        "        else:\n",
        "            counter+=1\n",
        "            \n",
        "        if indx== len(data)-2:\n",
        "            prod_list.append(counter)\n",
        "            \n",
        "            return StringSum(prod_list)\n",
        "      \n",
        "\n",
        "\n",
        "    \n",
        "      \n",
        "#chars = [\"a\",\"a\",\"b\",\"b\",\"c\",\"c\",\"c\"]\n",
        "#chars = [\"a\"]\n",
        "chars = [\"a\",\"b\",\"b\",\"b\",\"b\",\"b\",\"b\",\"b\",\"b\",\"b\",\"b\",\"b\",\"b\"] \n",
        "print(StringComprehension(chars))\n",
        "            \n",
        "    "
      ],
      "execution_count": null,
      "outputs": [
        {
          "output_type": "stream",
          "text": [
            "a1b12\n"
          ],
          "name": "stdout"
        }
      ]
    },
    {
      "cell_type": "code",
      "metadata": {
        "id": "8f-HhiZgITP-",
        "outputId": "441829e0-d425-4a4f-82e3-9194efd8dd83"
      },
      "source": [
        "arr=[1,2,2]\n",
        "sub_set=[]\n",
        "    \n",
        "for ind, itm in enumerate(arr):\n",
        "    print(\"ind\",ind)\n",
        "    #if arr[ind]!=arr[ind-1]:\n",
        "        \n",
        "    sub_set.append([itm])\n",
        "    for indx, itm1 in enumerate(arr[ind+1:]):\n",
        "        print(\"indx\",ind, indx+1)\n",
        "\n",
        "print(sub_set)"
      ],
      "execution_count": null,
      "outputs": [
        {
          "output_type": "stream",
          "text": [
            "ind 0\n",
            "indx 0 1\n",
            "indx 0 2\n",
            "ind 1\n",
            "indx 1 1\n",
            "ind 2\n",
            "[[1], [2], [2]]\n"
          ],
          "name": "stdout"
        }
      ]
    },
    {
      "cell_type": "code",
      "metadata": {
        "id": "yRC68noqITQA",
        "outputId": "88c9131c-92e4-4da2-912b-6f42dd29fc5e"
      },
      "source": [
        "asme=[1,2,3,6]\n",
        "print(asme[5:])"
      ],
      "execution_count": null,
      "outputs": [
        {
          "output_type": "stream",
          "text": [
            "[]\n"
          ],
          "name": "stdout"
        }
      ]
    },
    {
      "cell_type": "markdown",
      "metadata": {
        "id": "VRF-wRUmITQA"
      },
      "source": [
        "# 64. Minimum Path Sum"
      ]
    },
    {
      "cell_type": "code",
      "metadata": {
        "id": "OLt8B5iRITQB",
        "outputId": "adb18120-dce6-4905-9c08-2fb9f17cae98"
      },
      "source": [
        "import numpy as np\n",
        "arr=[\n",
        "  [1,3,1],\n",
        "  [1,5,1],\n",
        "  [4,2,1]\n",
        "]\n",
        "new_arr=[[0 for i in range(3) ] for i in range(3)] \n",
        "for col_index,col_item in enumerate(arr[0]):\n",
        "    if col_index==0:\n",
        "        new_arr[0][col_index]=col_item \n",
        "    else:\n",
        "        new_arr[0][col_index]=arr[0][col_index]+new_arr[0][col_index-1]\n",
        "for row_index, row_item in enumerate(arr):\n",
        "    if row_index==0:\n",
        "        pass\n",
        "    else:\n",
        "        new_arr[row_index][0]=arr[row_index][0]+new_arr[row_index-1][0]\n",
        "for i in range(1,len(arr)):\n",
        "    for j in range(1,len(arr)):\n",
        "        if new_arr[i][j-1]<=new_arr[i-1][j]:\n",
        "            new_arr[i][j]=new_arr[i][j-1]+arr[i][j]\n",
        "        else:\n",
        "            new_arr[i][j]=new_arr[i-1][j]+arr[i][j]\n",
        "        \n",
        "    \n",
        "\n",
        "print(np.array(new_arr[len(new_arr)-1][len(new_arr[0])-1]))"
      ],
      "execution_count": null,
      "outputs": [
        {
          "output_type": "stream",
          "text": [
            "7\n"
          ],
          "name": "stdout"
        }
      ]
    },
    {
      "cell_type": "markdown",
      "metadata": {
        "id": "rwY4TZLzITQB"
      },
      "source": [
        "# ? Maximum Path Sum"
      ]
    },
    {
      "cell_type": "code",
      "metadata": {
        "id": "J8tq6VfhITQB",
        "outputId": "669eaaba-5811-4040-f85e-3826b8b0960a"
      },
      "source": [
        "import numpy as np\n",
        "arr=[\n",
        "  [1,3,1],\n",
        "  [1,5,1],\n",
        "  [4,2,1]\n",
        "]\n",
        "new_arr=[[0 for i in range(3) ] for i in range(3)] \n",
        "for col_index,col_item in enumerate(arr[0]):\n",
        "    if col_index==0:\n",
        "        new_arr[0][col_index]=col_item \n",
        "    else:\n",
        "        new_arr[0][col_index]=arr[0][col_index]+new_arr[0][col_index-1]\n",
        "for row_index, row_item in enumerate(arr):\n",
        "    if row_index==0:\n",
        "        pass\n",
        "    else:\n",
        "        new_arr[row_index][0]=arr[row_index][0]+new_arr[row_index-1][0]\n",
        "for i in range(1,len(arr)):\n",
        "    for j in range(1,len(arr)):\n",
        "        if new_arr[i][j-1]>=new_arr[i-1][j]:\n",
        "            new_arr[i][j]=new_arr[i][j-1]+arr[i][j]\n",
        "        else:\n",
        "            new_arr[i][j]=new_arr[i-1][j]+arr[i][j]\n",
        "        \n",
        "    \n",
        "print(np.array(new_arr))\n",
        "print(np.array(new_arr[len(new_arr)-1][len(new_arr[0])-1]))"
      ],
      "execution_count": null,
      "outputs": [
        {
          "output_type": "stream",
          "text": [
            "[[ 1  4  5]\n",
            " [ 2  9 10]\n",
            " [ 6 11 12]]\n",
            "12\n"
          ],
          "name": "stdout"
        }
      ]
    },
    {
      "cell_type": "markdown",
      "metadata": {
        "id": "xsyExGPkITQB"
      },
      "source": [
        "# 1007. Minimum Domino Rotations For Equal Row"
      ]
    },
    {
      "cell_type": "code",
      "metadata": {
        "id": "PAAwXC__ITQC",
        "outputId": "a570b90b-58a7-4e2f-c9e7-020f71b77692"
      },
      "source": [
        "A = [3,5,1,2,3]\n",
        "B = [3,6,3,3,4]\n",
        "\n",
        "def CheckMin(target,list_A,list_B):\n",
        "    minSwap=0\n",
        "    for i in range(len(list_A)):\n",
        "        if target !=list_A[i] and target !=list_B[i]:\n",
        "            return -1\n",
        "        if target !=list_A[i]:\n",
        "            minSwap+=1\n",
        "    return minSwap\n",
        "\n",
        "def checkMinSwap(list_A, list_B):\n",
        "    minSwap=max(CheckMin(list_A[0], list_A,list_B), CheckMin(list_B[0], list_B,list_A))\n",
        "    \n",
        "    return minSwap\n",
        "\n",
        "\n",
        "\n",
        "checkMinSwap(A, B)"
      ],
      "execution_count": null,
      "outputs": [
        {
          "output_type": "execute_result",
          "data": {
            "text/plain": [
              "-1"
            ]
          },
          "metadata": {
            "tags": []
          },
          "execution_count": 122
        }
      ]
    },
    {
      "cell_type": "markdown",
      "metadata": {
        "id": "uTBBdZxFITQC"
      },
      "source": [
        "# 17. Letter Combinations of a Phone Number"
      ]
    },
    {
      "cell_type": "code",
      "metadata": {
        "id": "8u0bOrGDITQC",
        "outputId": "b842565b-3be7-425d-b1ca-7ba38d87f7fd"
      },
      "source": [
        "num_to_char={\n",
        "    2:[\"a\",\"b\", \"c\"],\n",
        "    3:[\"d\",\"e\",\"f\"],\n",
        "    4:[\"g\",\"h\",\"i\"],\n",
        "    5:[\"j\",\"k\",\"l\"],\n",
        "    6:[\"m\",\"n\",\"o\"],\n",
        "    7:[\"p\",\"q\",\"r\",\"s\"],\n",
        "    8:[\"t\",\"u\",\"v\"],\n",
        "    9:[\"w\",\"y\",\"x\",\"z\"]\n",
        "    \n",
        "}\n",
        "\n",
        "\n",
        "def permuataion(data,main_list):\n",
        "    \n",
        "    help_list=[]\n",
        "    if len(main_list)==0:\n",
        "        main_list=data[:]\n",
        "        return main_list\n",
        "    for dt in data:\n",
        "        for mn in main_list:\n",
        "            help_list.append(\"\"+dt+mn)\n",
        "    main_list=help_list[:]\n",
        "    return main_list\n",
        "\n",
        "def possibleComb(strr):\n",
        "    res=[]\n",
        "    for itm in strr:\n",
        "         res=permuataion(num_to_char[int(itm)],res)\n",
        "    \n",
        "    return res\n",
        "print(len(possibleComb(\"2\")))"
      ],
      "execution_count": null,
      "outputs": [
        {
          "output_type": "stream",
          "text": [
            "3\n"
          ],
          "name": "stdout"
        }
      ]
    },
    {
      "cell_type": "markdown",
      "metadata": {
        "id": "1JwIB0WmITQC"
      },
      "source": [
        "# 1239. Maximum Length of a Concatenated String with Unique Characters"
      ]
    },
    {
      "cell_type": "code",
      "metadata": {
        "id": "tV6grZLOITQC",
        "outputId": "d8b8e0c8-9bba-42d0-e850-73b26245aa74"
      },
      "source": [
        "\n",
        "\n",
        "def chekcFunc(a,b):\n",
        "    for ax in a:\n",
        "        if ax in list(b):\n",
        "            return False\n",
        "    return True\n",
        "  \n",
        "def checkSelf(listing):\n",
        "    for indx, item in enumerate(listing):\n",
        "        for cindx,sitem in enumerate(listing[indx+1:]):\n",
        "            if len(list(set(sitem+item)))!=len(item+sitem):\n",
        "                listing.remove(sitem)\n",
        "    return listing\n",
        "\n",
        "        \n",
        "def FindPossibleWord(arr):\n",
        "   \n",
        "    copy_arr=arr[:]\n",
        "    #res=checkSelf(arr)\n",
        "    res=[]\n",
        "    for index, a in enumerate(arr):\n",
        "        for c in copy_arr[index+1:]:\n",
        "            if(chekcFunc(a,c)):\n",
        "                res.append(a+c)\n",
        "    res=max([len(item) for item in res])\n",
        "    return res\n",
        "\n",
        "#arr=[\"cha\",\"r\",\"act\",\"ers\"]\n",
        "arr = [\"un\",\"iq\",\"ue\"]\n",
        "print(FindPossibleWord(arr))"
      ],
      "execution_count": null,
      "outputs": [
        {
          "output_type": "stream",
          "text": [
            "4\n"
          ],
          "name": "stdout"
        }
      ]
    },
    {
      "cell_type": "markdown",
      "metadata": {
        "id": "5tQg8GPcITQC"
      },
      "source": [
        "# 113. Path Sum II"
      ]
    },
    {
      "cell_type": "code",
      "metadata": {
        "id": "EX0XsyYBITQD"
      },
      "source": [
        "    def pathSum(self, root: TreeNode, sum: int) -> List[List[int]]:\n",
        "        sumOfPath=0\n",
        "        path=[]\n",
        "        result=[]\n",
        "        self.dfs(root, sumOfPath, sum,path, result)\n",
        "        print(root)\n",
        "        return result\n",
        "        \n",
        "    def dfs( self,root,sumOfPath, sum, path,result):\n",
        "        if root is None:\n",
        "            return None\n",
        "        sumOfPath+=root.val\n",
        "        if root.left is None and root.right is None and sumOfPath==sum:\n",
        "            result.append([*path,root.val])\n",
        "            return None\n",
        "        path.append(root.val)\n",
        "        self.dfs(root.left, sumOfPath, sum,path, result)\n",
        "        self.dfs(root.right, sumOfPath, sum,path, result)\n",
        "        sumOfPath =sumOfPath-root.val\n",
        "        path.pop()\n",
        "        "
      ],
      "execution_count": null,
      "outputs": []
    },
    {
      "cell_type": "markdown",
      "metadata": {
        "id": "17abVq0GITQD"
      },
      "source": [
        "# Binary Trees in Python "
      ]
    },
    {
      "cell_type": "code",
      "metadata": {
        "id": "clw8cX7yITQD",
        "outputId": "99376f7b-935e-4706-8066-60a0b886c9b9"
      },
      "source": [
        "class Node:\n",
        "    def __init__(self, val, right=None,left=None):\n",
        "        self.val=val\n",
        "        self.right=right\n",
        "        self.left= left\n",
        "class BinaryTree:\n",
        "    def __init__(self,root):\n",
        "        self.val=Node(root)\n",
        "        \n",
        "root=BinaryTree(1)\n",
        "\n",
        "root.val.left=Node(2)\n",
        "root.val.left.right=Node(5)\n",
        "root.val.right=Node(3)\n",
        "print(root.val.left.val)"
      ],
      "execution_count": null,
      "outputs": [
        {
          "output_type": "stream",
          "text": [
            "2\n"
          ],
          "name": "stdout"
        }
      ]
    },
    {
      "cell_type": "markdown",
      "metadata": {
        "id": "Z3g4EG7NITQE"
      },
      "source": [
        "# 257. Binary Tree Paths"
      ]
    },
    {
      "cell_type": "code",
      "metadata": {
        "id": "GCvIwHMKITQE"
      },
      "source": [
        "# Definition for a binary tree node.\n",
        "# class TreeNode:\n",
        "#     def __init__(self, val=0, left=None, right=None):\n",
        "#         self.val = val\n",
        "#         self.left = left\n",
        "#         self.right = right\n",
        "class Solution:\n",
        "    def binaryTreePaths(self, root: TreeNode) -> List[str]:\n",
        "        path=\"\"\n",
        "        result=[]\n",
        "        self.dfs(root,result, path)\n",
        "        return result\n",
        "    def dfs(self, root,result,path):\n",
        "        if root is None:\n",
        "            return None\n",
        "        if path==\"\":\n",
        "            path+=(str(root.val))\n",
        "        else:\n",
        "            path+=\"->\"+str(root.val)\n",
        "        if root.right is None and root.left is None: \n",
        "            result.append(path)\n",
        "          \n",
        "            return None\n",
        "        self.dfs(root.left,result,path)\n",
        "        self.dfs(root.right,result,path)\n",
        "        \n",
        "            "
      ],
      "execution_count": null,
      "outputs": []
    },
    {
      "cell_type": "markdown",
      "metadata": {
        "id": "ZNSNIXELITQE"
      },
      "source": [
        "# 144. Binary Tree Preorder Traversal"
      ]
    },
    {
      "cell_type": "code",
      "metadata": {
        "id": "XvElU4oPITQF"
      },
      "source": [
        "# Definition for a binary tree node.\n",
        "# class TreeNode:\n",
        "#     def __init__(self, val=0, left=None, right=None):\n",
        "#         self.val = val\n",
        "#         self.left = left\n",
        "#         self.right = right\n",
        "class Solution:\n",
        "    def preorderTraversal(self, root: TreeNode) -> List[int]:\n",
        "  \n",
        "        res=self.dfs(root)\n",
        "        return res\n",
        "        \n",
        "    def dfs(self, root):\n",
        "        if root is None:\n",
        "            return []\n",
        "        return [root.val]+self.dfs(root.left)+self.dfs(root.right)\n",
        "\n"
      ],
      "execution_count": null,
      "outputs": []
    },
    {
      "cell_type": "markdown",
      "metadata": {
        "id": "gt7LK_JAITQF"
      },
      "source": [
        "# Java Solution"
      ]
    },
    {
      "cell_type": "code",
      "metadata": {
        "id": "Ge3aJ71KITQF"
      },
      "source": [
        "class Solution {\n",
        "    public List<Integer> preorderTraversal(TreeNode root) {\n",
        "        List<Integer> paths=new ArrayList<Integer>();\n",
        "        Stack<TreeNode> stacks=new Stack();\n",
        "        stacks.push(root);\n",
        "        while(!stacks.isEmpty()){\n",
        "           TreeNode current= stacks.pop();\n",
        "            if(current!= null){\n",
        "            stacks.push(current.right);\n",
        "            stacks.push(current.left);\n",
        "            paths.add(current.val);\n",
        "            }\n",
        "                \n",
        "    \n",
        "            \n",
        "        }\n",
        "        \n",
        "        return paths;\n",
        "    }\n",
        "\n",
        "\n",
        "}"
      ],
      "execution_count": null,
      "outputs": []
    },
    {
      "cell_type": "markdown",
      "metadata": {
        "id": "XLo5sFBoITQF"
      },
      "source": [
        "# 94. Binary Tree Inorder Traversal"
      ]
    },
    {
      "cell_type": "code",
      "metadata": {
        "id": "mAOddFHmITQF"
      },
      "source": [
        "class Solution:\n",
        "    def inorderTraversal(self, root: TreeNode) -> List[int]:\n",
        "        if root is None:\n",
        "            return []\n",
        "        return self.inorderTraversal(root.left)+[root.val]+self.inorderTraversal(root.right)"
      ],
      "execution_count": null,
      "outputs": []
    },
    {
      "cell_type": "markdown",
      "metadata": {
        "id": "TpqbiE2MITQF"
      },
      "source": [
        "# 121. Best Time to Buy and Sell Stock"
      ]
    },
    {
      "cell_type": "code",
      "metadata": {
        "id": "rquZ7wQgITQF"
      },
      "source": [
        ""
      ],
      "execution_count": null,
      "outputs": []
    },
    {
      "cell_type": "code",
      "metadata": {
        "id": "tglC2BsYITQF",
        "outputId": "c117252b-23c8-445e-dee0-30241b96831f"
      },
      "source": [
        "def maxProfit(prices): \n",
        "    maxProf=0\n",
        "    for indx, buying  in enumerate(prices[:len(prices)-1]):\n",
        "        for sindx,selling in enumerate(prices[indx+1:]):\n",
        "            if(selling-buying)>maxProf:\n",
        "                maxProf=selling-buying\n",
        "    return maxProf\n",
        "    \n",
        "print(maxProfit(prices))"
      ],
      "execution_count": null,
      "outputs": [
        {
          "output_type": "stream",
          "text": [
            "5\n"
          ],
          "name": "stdout"
        }
      ]
    },
    {
      "cell_type": "code",
      "metadata": {
        "id": "VPnFOXZgITQG"
      },
      "source": [
        " \n",
        "for index, item in enumerate(prices[:len(prices)-1]):\n",
        "        max_buying_price= max(prices[index+1:])\n",
        "        if max_buying_price-item>profit:\n",
        "            profit =max_buying_price-item\n",
        "    return profit"
      ],
      "execution_count": null,
      "outputs": []
    },
    {
      "cell_type": "code",
      "metadata": {
        "id": "RMTDILUTITQH",
        "outputId": "60e0fc0f-d897-4a86-a4c7-cc7e70a87e47"
      },
      "source": [
        "prices=[7,4,5,3,6,1]\n",
        "\n",
        "def maxProfit(prices):\n",
        "    mx_profit=0\n",
        "    min_prc=float(\"inf\")\n",
        "    for price in prices:\n",
        "        min_prc=min(min_prc, price)\n",
        "        mx_profit=max(mx_profit, price-min_prc)\n",
        "    return mx_profit\n",
        "print(maxProfit(prices))"
      ],
      "execution_count": null,
      "outputs": [
        {
          "output_type": "stream",
          "text": [
            "3\n"
          ],
          "name": "stdout"
        }
      ]
    },
    {
      "cell_type": "markdown",
      "metadata": {
        "id": "hWt0azZJITQH"
      },
      "source": [
        "# Java Solution"
      ]
    },
    {
      "cell_type": "code",
      "metadata": {
        "id": "I0xb-BPoITQH"
      },
      "source": [
        "class Solution {\n",
        "    public int maxProfit(int[] prices) {\n",
        "        int max_profit = 0;\n",
        "        int min_price = Integer.MAX_VALUE;\n",
        "        for(Integer price:prices){\n",
        "            if (price<min_price){\n",
        "                min_price=price;\n",
        "                }\n",
        "            if (price-min_price>max_profit){\n",
        "            max_profit=price-min_price;\n",
        "            }\n",
        "        }\n",
        "        \n",
        "        return max_profit;\n",
        "    }\n",
        "}"
      ],
      "execution_count": null,
      "outputs": []
    },
    {
      "cell_type": "markdown",
      "metadata": {
        "id": "eiEAyTiWITQI"
      },
      "source": [
        "# 228. Summary Ranges"
      ]
    },
    {
      "cell_type": "code",
      "metadata": {
        "id": "qVZdE14EITQI",
        "outputId": "d40e431e-4645-45dc-ebc8-9ef615bef6d6"
      },
      "source": [
        "def bla(nums):\n",
        "    if len(nums)==0:\n",
        "        return nums\n",
        "    actual=[]\n",
        "    main_list=[]\n",
        "    actual.append(nums[0])\n",
        "    main_list.append(actual)\n",
        "    for index, num in enumerate(nums[1:]):\n",
        "        \n",
        "        \n",
        "        if nums[index+1]==nums[index]+1:\n",
        "            main_list[len(main_list)-1].append(num)\n",
        "        \n",
        "        else:\n",
        "            actual=[]\n",
        "            actual.append(num)\n",
        "            main_list.append(actual)\n",
        "            \n",
        "            \n",
        "            \n",
        "    main_list=[str(itm[0])+\"->\"+str(itm[len(itm)-1]) if len(itm) >=2 else str(itm[0]) for itm in main_list]\n",
        "    return main_list\n",
        "        \n",
        "            \n",
        "            \n",
        "print(bla([25555555]))  "
      ],
      "execution_count": null,
      "outputs": [
        {
          "output_type": "stream",
          "text": [
            "['25555555']\n"
          ],
          "name": "stdout"
        }
      ]
    },
    {
      "cell_type": "markdown",
      "metadata": {
        "id": "IxUU9xwMITQI"
      },
      "source": [
        "# 1290. Convert Binary Number in a Linked List to Integer"
      ]
    },
    {
      "cell_type": "code",
      "metadata": {
        "id": "b6wXua1AITQI",
        "outputId": "eea483ee-aaae-4071-bbe5-750cf0debbe2"
      },
      "source": [
        "def toTwo(listing):\n",
        "    result=0\n",
        "    for i in range(len(listing)):\n",
        "        result+=(listing[len(listing)-1-i])*2**i\n",
        "    return result\n",
        "\n",
        "        \n",
        "toTwo([0,0])"
      ],
      "execution_count": null,
      "outputs": [
        {
          "output_type": "execute_result",
          "data": {
            "text/plain": [
              "0"
            ]
          },
          "metadata": {
            "tags": []
          },
          "execution_count": 158
        }
      ]
    },
    {
      "cell_type": "markdown",
      "metadata": {
        "id": "GkmCzwivITQI"
      },
      "source": [
        "# 799. Champagne Tower"
      ]
    },
    {
      "cell_type": "code",
      "metadata": {
        "id": "hwHh1GSrITQJ"
      },
      "source": [
        "\n",
        "\n",
        "\n",
        "\n",
        "import numpy as np\n",
        "query_row=2\n",
        "poured=3\n",
        "\n",
        "dp=[[0 for i in range(x)] for x in range(1,query_row+2)]\n",
        "dp[0][0]=poured\n",
        "for i in range(query_row):\n",
        "    for j in range(len(dp[i])):\n",
        "        rest=(dp[i][j]-1)/2.0\n",
        "        if rest>0:\n",
        "            dp[i+1][j]+=rest\n",
        "            dp[i+1][j+1]+=rest\n"
      ],
      "execution_count": null,
      "outputs": []
    },
    {
      "cell_type": "code",
      "metadata": {
        "id": "OPFBJQZvITQJ",
        "outputId": "34718214-eea1-49ff-d7f6-bb3398b008e4"
      },
      "source": [
        "print(np.array(dp))"
      ],
      "execution_count": null,
      "outputs": [
        {
          "output_type": "stream",
          "text": [
            "[list([3]) list([1.0, 1.0]) list([0, 0, 0])]\n"
          ],
          "name": "stdout"
        }
      ]
    },
    {
      "cell_type": "code",
      "metadata": {
        "id": "U8bFgNBCITQJ"
      },
      "source": [
        "class Solution:\n",
        "    def champagneTower(self, poured: int, query_row: int, query_glass: int) -> float:\n",
        "        dp=[[0 for i in range(x)] for x in range(1,query_row+2)]\n",
        "        dp[0][0]=poured\n",
        "        for i in range(query_row):\n",
        "            for j in range(len(dp[i])):\n",
        "                rest=(dp[i][j]-1)/2.0\n",
        "                if rest>0:\n",
        "                    dp[i+1][j]+=rest\n",
        "                    dp[i+1][j+1]+=rest\n",
        "        return dp[query_row][query_glass] if  dp[query_row][query_glass]<1 else 1\n"
      ],
      "execution_count": null,
      "outputs": []
    },
    {
      "cell_type": "markdown",
      "metadata": {
        "id": "7UamLlEmITQJ"
      },
      "source": [
        "# 286. Walls and Gates "
      ]
    },
    {
      "cell_type": "code",
      "metadata": {
        "id": "R5a7_XfqITQJ"
      },
      "source": [
        "import numpy as np\n",
        "import time\n",
        "new_arr=[[float(\"inf\") for i in range(4)] for _ in range(4)]\n",
        "\n",
        "new_arr[0][1]=-1\n",
        "new_arr[0][2]=0\n",
        "new_arr[1][3]=-1\n",
        "new_arr[2][3]=-1\n",
        "new_arr[3][0]=0\n",
        "new_arr[3][1]=-1\n",
        "\n",
        "\n",
        "def dfs(i,j, new_arr, count):\n",
        "    print(i,j)\n",
        "    if i<0 or i>=len(new_arr) or j<0 or j>=len(new_arr) or new_arr[i][j]<count:\n",
        "\n",
        "        return \n",
        "\n",
        "\n",
        "    \n",
        "    time.sleep(0.5)\n",
        "    print(new_arr)\n",
        "    new_arr[i][j]=count  \n",
        "    dfs(i+1,j,new_arr,count+1)\n",
        "    dfs(i-1,j,new_arr,count+1)\n",
        "    dfs(i,j+1,new_arr,count+1)\n",
        "    dfs(i,j-1,new_arr,count+1)\n",
        "\n",
        "   \n",
        "    \n",
        "    \n",
        "    \n",
        "        \n",
        "def checkBalance():\n",
        "    global new_arr\n",
        "    for i in range(len(new_arr)):\n",
        "        for j in range(len(new_arr[i])):\n",
        "            if new_arr[i][j]==0:\n",
        "                count=0\n",
        "                dfs(i,j, new_arr,count)\n",
        "    return new_arr\n",
        "\n",
        "print(checkBalance())\n",
        "\n",
        "\n"
      ],
      "execution_count": null,
      "outputs": []
    },
    {
      "cell_type": "code",
      "metadata": {
        "id": "8y_BqSvKITQJ",
        "outputId": "1d68bc40-0d1c-42b6-819e-0957fed9feda"
      },
      "source": [
        "new_arr"
      ],
      "execution_count": null,
      "outputs": [
        {
          "output_type": "execute_result",
          "data": {
            "text/plain": [
              "[[3, -1, 0, 1], [2, 2, 1, -1], [1, 2, 2, -1], [0, -1, 3, 4]]"
            ]
          },
          "metadata": {
            "tags": []
          },
          "execution_count": 2
        }
      ]
    },
    {
      "cell_type": "code",
      "metadata": {
        "id": "exVrNEzMITQK",
        "outputId": "30db5592-a780-4f77-e8c1-4dfb1a14493c"
      },
      "source": [
        "def dfs_reversestr(inpt):\n",
        "    if len(inpt)==1:\n",
        "        return inpt\n",
        "    return inpt[len(inpt)-1:]+dfs_reversestr(inpt[:len(inpt)-1])\n",
        "    \n",
        "    \n",
        "\n",
        "\n",
        "\n",
        "def Checkpoliandrom(val):\n",
        "    \n",
        "    print(\"vallll\", val)\n",
        "    if val==dfs_reversestr(val):\n",
        "        return True\n",
        "    else:\n",
        "        for ind, itm in enumerate(val):\n",
        "            new_val=val[:ind]+val[ind+1:]\n",
        "            print(\"new_val\", new_val)\n",
        "            if len(new_val)==len(val)-1 and new_val==dfs_reversestr(new_val) :\n",
        "                print(new_val)\n",
        "                return True\n",
        "        \n",
        "        return False\n",
        "                \n",
        "                \n",
        "                \n",
        "                \n",
        "den=\"qeouuvargaybcezuecbyagravuuoeq\"\n",
        "print(Checkpoliandrom(den))       "
      ],
      "execution_count": null,
      "outputs": [
        {
          "output_type": "stream",
          "text": [
            "vallll qeouuvargaybcezuecbyagravuuoeq\n",
            "new_val eouuvargaybcezuecbyagravuuoeq\n",
            "new_val qouuvargaybcezuecbyagravuuoeq\n",
            "new_val qeuuvargaybcezuecbyagravuuoeq\n",
            "new_val qeouvargaybcezuecbyagravuuoeq\n",
            "new_val qeouvargaybcezuecbyagravuuoeq\n",
            "new_val qeouuargaybcezuecbyagravuuoeq\n",
            "new_val qeouuvrgaybcezuecbyagravuuoeq\n",
            "new_val qeouuvagaybcezuecbyagravuuoeq\n",
            "new_val qeouuvaraybcezuecbyagravuuoeq\n",
            "new_val qeouuvargybcezuecbyagravuuoeq\n",
            "new_val qeouuvargabcezuecbyagravuuoeq\n",
            "new_val qeouuvargaycezuecbyagravuuoeq\n",
            "new_val qeouuvargaybezuecbyagravuuoeq\n",
            "new_val qeouuvargaybczuecbyagravuuoeq\n",
            "new_val qeouuvargaybceuecbyagravuuoeq\n",
            "qeouuvargaybceuecbyagravuuoeq\n",
            "True\n"
          ],
          "name": "stdout"
        }
      ]
    },
    {
      "cell_type": "markdown",
      "metadata": {
        "id": "s_GY6O_mITQK"
      },
      "source": [
        "# 680. Valid Palindrome II"
      ]
    },
    {
      "cell_type": "markdown",
      "metadata": {
        "id": "xj0iTMe-ITQL"
      },
      "source": [
        "# 680. Valid Palindrome II"
      ]
    },
    {
      "cell_type": "code",
      "metadata": {
        "id": "gAyNzv4_ITQL",
        "outputId": "bb5e62da-7e64-4b8a-e41c-4ce2e2d2dfe9"
      },
      "source": [
        "import math\n",
        "\n",
        "def changeCheck(s2):\n",
        "    cyc= math.ceil(len(s2)/2)\n",
        "    ls=len(s2)-1\n",
        "    for i in range(cyc):\n",
        "        if s2[i]!=s2[ls-i]:\n",
        "            return False\n",
        "    return True\n",
        "            \n",
        "    \n",
        "        \n",
        "\n",
        "def ValidPoliandrom(strr):\n",
        "    cycle= math.ceil(len(strr)/2)\n",
        "    lst=len(strr)-1\n",
        "    counter=0\n",
        "    for i in range(cycle):\n",
        "        if strr[i]==strr[lst-i]:\n",
        "            continue\n",
        "        elif counter==0:\n",
        "            counter=+1\n",
        "            word_1=strr[:i]+strr[i+1:]\n",
        "            word_2=strr[:lst-i]+strr[lst+1-i:]\n",
        "            if(changeCheck(word_1) or changeCheck(word_2) ):\n",
        "                return True\n",
        "            else:\n",
        "                return False\n",
        "        else:\n",
        "            return False\n",
        "    return True\n",
        "        \n",
        "print(ValidPoliandrom(\"abc\"))           "
      ],
      "execution_count": null,
      "outputs": [
        {
          "output_type": "stream",
          "text": [
            "False\n"
          ],
          "name": "stdout"
        }
      ]
    },
    {
      "cell_type": "markdown",
      "metadata": {
        "id": "xvoYclz2ITQL"
      },
      "source": [
        "# 242. Valid Anagram"
      ]
    },
    {
      "cell_type": "code",
      "metadata": {
        "id": "uGyPyt0xITQT"
      },
      "source": [
        " def isAnagram(self, s: str, t: str) -> bool:\n",
        "        s_dic={}\n",
        "        t_dic={}\n",
        "        for i in s:\n",
        "            if i in s_dic:\n",
        "                s_dic[i]+=1\n",
        "            else:\n",
        "                s_dic[i]=0\n",
        "        for i in t:\n",
        "            if i in t_dic:\n",
        "                t_dic[i]+=1\n",
        "            else:\n",
        "                t_dic[i]=0\n",
        "        if len(t)<len(s):\n",
        "            return False\n",
        "        for itm in t:\n",
        "            if itm not in s:\n",
        "                return False\n",
        "            if itm  not in t_dic:\n",
        "                return False\n",
        "            if s_dic[itm]!=t_dic[itm]:\n",
        "                return False\n",
        "            \n",
        "        return True\n",
        "        "
      ],
      "execution_count": null,
      "outputs": []
    },
    {
      "cell_type": "markdown",
      "metadata": {
        "id": "r2Ijosd1ITQT"
      },
      "source": [
        "# Solition 2 in Java\n"
      ]
    },
    {
      "cell_type": "code",
      "metadata": {
        "id": "dGBSNTpdITQT"
      },
      "source": [
        "class Solution {\n",
        "    public boolean isAnagram(String s, String t) {\n",
        "        if(s.length()!=t.length()) return false;\n",
        "        \n",
        "        int [] counts=new int[26];\n",
        "        for(int i=0; i<s.length();i++){\n",
        "            counts[s.charAt(i) - 'a']++;\n",
        "            System.out.println(counts.toString());\n",
        "            \n",
        "            counts[t.charAt(i) - 'a']--;\n",
        "            \n",
        "           \n",
        "            \n",
        "            \n",
        "        }\n",
        "        for(int i:counts){\n",
        "            if(i!=0){\n",
        "                return false;\n",
        "                \n",
        "            }\n",
        "        }\n",
        "        \n",
        "        return true;\n",
        "    }\n",
        "}"
      ],
      "execution_count": null,
      "outputs": []
    },
    {
      "cell_type": "markdown",
      "metadata": {
        "id": "a3RBhA_zITQT"
      },
      "source": [
        "# 20. Valid Parentheses"
      ]
    },
    {
      "cell_type": "code",
      "metadata": {
        "id": "PYK3XpqpITQU"
      },
      "source": [
        "\n",
        "def isValid(s):\n",
        "    opening_list=[\"(\",\"{\",\"[\"]\n",
        "    closing_list=[\")\",\"}\",\"]\"]\n",
        "    pre_list=[\"()\",\"[]\",\"{}\"]\n",
        "    stack_list=[]\n",
        "    if len(s)==1:\n",
        "        return False\n",
        "    for si in s:\n",
        "        if si in opening_list:\n",
        "            stack_list.append(si)\n",
        "        if si in closing_list:\n",
        "            if len(stack_list)!=0 and (stack_list.pop()+si in pre_list):\n",
        "                pass\n",
        "            else:\n",
        "                return False\n",
        "    if len(stack_list)>0:\n",
        "        return False\n",
        "\n",
        "\n",
        "    return True\n",
        "                    "
      ],
      "execution_count": null,
      "outputs": []
    },
    {
      "cell_type": "markdown",
      "metadata": {
        "id": "J0nnFmz6ITQU"
      },
      "source": [
        "# 1. Two Sum"
      ]
    },
    {
      "cell_type": "code",
      "metadata": {
        "id": "Fr5ZBg9YITQU",
        "outputId": "d2f77a59-61fe-4bd1-ec3c-62806136585b"
      },
      "source": [
        "def TwoSum(nums, target):\n",
        "    if len(nums)==1:\n",
        "        return []\n",
        "\n",
        "    \n",
        "        \n",
        "    hash_list={}\n",
        "    if len(nums)==1:\n",
        "            return []\n",
        "        \n",
        "    hash_list={}\n",
        "    for index, num in enumerate(nums):\n",
        "        if num in hash_list:\n",
        "            hash_list[num]+=index\n",
        "        else:\n",
        "            hash_list[num]=index\n",
        "    for i, it in enumerate(nums):\n",
        "        val=target-it\n",
        "       \n",
        "        if val in nums:\n",
        "            print(val)\n",
        "            if val==it and  hash_list[val]==i:\n",
        "                pass\n",
        "            elif(val==it and  hash_list[val]!=i):\n",
        "                return [i,abs(hash_list[val]-i)]\n",
        "            \n",
        "            else:\n",
        "                return [i,hash_list[val]]\n",
        "\n",
        "        \n",
        "    else:\n",
        "        return []            \n",
        "listing=[2,5,5,11]\n",
        "\n",
        "\n",
        "TwoSum(listing,10)                "
      ],
      "execution_count": null,
      "outputs": [
        {
          "output_type": "stream",
          "text": [
            "5\n"
          ],
          "name": "stdout"
        },
        {
          "output_type": "execute_result",
          "data": {
            "text/plain": [
              "[1, 2]"
            ]
          },
          "metadata": {
            "tags": []
          },
          "execution_count": 140
        }
      ]
    },
    {
      "cell_type": "markdown",
      "metadata": {
        "id": "byl2tDLwITQV"
      },
      "source": [
        "# 283. Move Zeroes"
      ]
    },
    {
      "cell_type": "code",
      "metadata": {
        "id": "ABegbtXOITQV",
        "outputId": "1f8cc08f-ce4e-48a7-c121-8649b07d9c13"
      },
      "source": [
        "a=[0,0,1]\n",
        "help_list=[]\n",
        "new_list=[]\n",
        "counter=0\n",
        "for i in a:\n",
        "    if i!=0:\n",
        "        new_list.append(i)\n",
        "    else:\n",
        "        counter+=1\n",
        "[new_list.append(0) for i in range(counter)]"
      ],
      "execution_count": null,
      "outputs": [
        {
          "output_type": "execute_result",
          "data": {
            "text/plain": [
              "[None, None]"
            ]
          },
          "metadata": {
            "tags": []
          },
          "execution_count": 159
        }
      ]
    },
    {
      "cell_type": "code",
      "metadata": {
        "id": "6xgoZumPITQW",
        "outputId": "03f6d358-d0c1-418e-cc24-9a9f8fed765d"
      },
      "source": [
        "new_list"
      ],
      "execution_count": null,
      "outputs": [
        {
          "output_type": "execute_result",
          "data": {
            "text/plain": [
              "[1, 0, 0]"
            ]
          },
          "metadata": {
            "tags": []
          },
          "execution_count": 160
        }
      ]
    },
    {
      "cell_type": "code",
      "metadata": {
        "id": "YGOZKUX7ITQW",
        "outputId": "b7a298b9-4de7-48fe-f491-8365424fe6af"
      },
      "source": [
        "def chekc(l):\n",
        "    l=list(set(l))\n",
        "    return l\n",
        "print(chekc([0,0,1,1,1,2,2,3,3,4]))\n",
        "    "
      ],
      "execution_count": null,
      "outputs": [
        {
          "output_type": "stream",
          "text": [
            "[0, 1, 2, 3, 4]\n"
          ],
          "name": "stdout"
        }
      ]
    },
    {
      "cell_type": "code",
      "metadata": {
        "id": "yB0WdIQ1ITQW",
        "outputId": "9080084f-8840-4c4f-ba0d-c88610550b38"
      },
      "source": [
        "def checktwo(nums):\n",
        "    current=None\n",
        "    new_list=nums[:]\n",
        "    \n",
        "    for ind, num in enumerate(nums):\n",
        "        if num == current:\n",
        "            print(\"ind\", ind)\n",
        "            new_list.remove(num)\n",
        "        else:\n",
        "            current=num\n",
        "    return  new_list\n",
        "\n",
        "\n",
        "            \n",
        "            \n",
        "val=[0,0,1,1,1,2,2,3,3,4]\n",
        "checktwo(val)\n",
        "            "
      ],
      "execution_count": null,
      "outputs": [
        {
          "output_type": "stream",
          "text": [
            "ind 1\n",
            "ind 3\n",
            "ind 4\n",
            "ind 6\n",
            "ind 8\n"
          ],
          "name": "stdout"
        },
        {
          "output_type": "execute_result",
          "data": {
            "text/plain": [
              "[0, 1, 2, 3, 4]"
            ]
          },
          "metadata": {
            "tags": []
          },
          "execution_count": 170
        }
      ]
    },
    {
      "cell_type": "markdown",
      "metadata": {
        "id": "WWTN_qX5ITQW"
      },
      "source": [
        "# 67. Add Binary"
      ]
    },
    {
      "cell_type": "code",
      "metadata": {
        "id": "hkBcY7YXITQW",
        "outputId": "514d39af-649a-4143-a8c1-7ad66cf79d7e"
      },
      "source": [
        "def toBinary(nr):\n",
        "    if nr<2:\n",
        "        return str(nr)\n",
        "    return toBinary(int(nr/2))+str(nr%2)\n",
        "\n",
        "\n",
        "def SumBinary(a,b):\n",
        "    \n",
        "    return toBinary(int(a,2)+int(b,2))\n",
        "\n",
        "\n",
        "\n",
        "SumBinary(\"11\",\"1\")"
      ],
      "execution_count": null,
      "outputs": [
        {
          "output_type": "execute_result",
          "data": {
            "text/plain": [
              "'100'"
            ]
          },
          "metadata": {
            "tags": []
          },
          "execution_count": 188
        }
      ]
    },
    {
      "cell_type": "markdown",
      "metadata": {
        "id": "CfakD-UXITQW"
      },
      "source": [
        "# . Reverse String"
      ]
    },
    {
      "cell_type": "code",
      "metadata": {
        "id": "mus-oJWcITQW",
        "outputId": "b9d8f78f-b777-4704-b684-d747922f5e18"
      },
      "source": [
        "def ReverseString(coming):\n",
        "    if len(coming)==1:\n",
        "        return coming+\">NULL\"\n",
        "    return coming[-1]+ReverseString(coming[:-1])\n",
        "\n",
        "\n",
        "print(ReverseString(\"abc\"))"
      ],
      "execution_count": null,
      "outputs": [
        {
          "output_type": "stream",
          "text": [
            "cba>NULL\n"
          ],
          "name": "stdout"
        }
      ]
    },
    {
      "cell_type": "markdown",
      "metadata": {
        "id": "hVsfvwQQITQW"
      },
      "source": [
        "# Reverse Linked List"
      ]
    },
    {
      "cell_type": "code",
      "metadata": {
        "id": "lRP9LPHkITQX"
      },
      "source": [
        "def reverseList(self, head):\n",
        "    \"\"\"\n",
        "    :type head: ListNode\n",
        "    :rtype: ListNode\n",
        "    \"\"\"\n",
        "    prev=None\n",
        "    while(head):\n",
        "        temp=head\n",
        "        head=head.next\n",
        "        temp.next=prev\n",
        "        prev=temp\n",
        "    return prev\n",
        "\n",
        "            "
      ],
      "execution_count": null,
      "outputs": []
    },
    {
      "cell_type": "markdown",
      "metadata": {
        "id": "FPsVbFrMITQX"
      },
      "source": [
        "# 78. Subsets"
      ]
    },
    {
      "cell_type": "code",
      "metadata": {
        "id": "CMGTXjN2ITQX",
        "outputId": "de7d82f2-db21-4c1f-aa01-997ed123d373"
      },
      "source": [
        "def SubSet(ls):\n",
        "    output=[[]]\n",
        "    copy_out=output[:]\n",
        "    for i in ls:\n",
        "        for cp in copy_out:\n",
        "            output.append(cp+[i])\n",
        "        copy_out=output[:] #output=[[],[1],[2],[1,2],[3],[1,3],[2,3]]\n",
        "    return output\n",
        "\n",
        "print(SubSet([1,2,3]))\n",
        "        "
      ],
      "execution_count": null,
      "outputs": [
        {
          "output_type": "stream",
          "text": [
            "[[], [1], [2], [1, 2], [3], [1, 3], [2, 3], [1, 2, 3]]\n"
          ],
          "name": "stdout"
        }
      ]
    },
    {
      "cell_type": "markdown",
      "metadata": {
        "id": "v1F0cWOaITQX"
      },
      "source": [
        "# 14. Longest Common Prefix according to prefix"
      ]
    },
    {
      "cell_type": "code",
      "metadata": {
        "id": "C5JFUaPtITQY",
        "outputId": "afb0b500-ceb1-477b-e472-5c20e8ae850e"
      },
      "source": [
        "strs = [\"flower\",\"flow\",\"flight\"]\n",
        "\n",
        "def Control(itm):\n",
        "    for sr in strs:\n",
        "        if itm in sr:\n",
        "            pass\n",
        "        else:\n",
        "            return False\n",
        "    return True\n",
        "\n",
        "def longestCommonPrefix(strs):\n",
        "    \n",
        "    max_length=0\n",
        "    max_word=None\n",
        "\n",
        "    for i in strs:\n",
        "        if len(i)>max_length:\n",
        "            max_length=len(i)\n",
        "            max_word=i\n",
        "\n",
        "    long_word=\"\"      \n",
        "    for index, item in enumerate(max_word):\n",
        "        den=\"\"\n",
        "        den+=item\n",
        "        if (Control(den) and len(den)>len(long_word)):\n",
        "            long_word=den\n",
        "        for s_index, s_item in enumerate(max_word[index+1:]):\n",
        "            word_to_search=max_word[index:s_index+1]\n",
        "            den+=s_item\n",
        "            if (Control(den) and len(den)>len(long_word)):\n",
        "                long_word=den\n",
        "    return long_word\n",
        "            \n",
        "longestCommonPrefix(strs)  "
      ],
      "execution_count": null,
      "outputs": [
        {
          "output_type": "execute_result",
          "data": {
            "text/plain": [
              "'fl'"
            ]
          },
          "metadata": {
            "tags": []
          },
          "execution_count": 303
        }
      ]
    },
    {
      "cell_type": "markdown",
      "metadata": {
        "id": "prRRMmSnITQY"
      },
      "source": [
        "# 14. Longest Common Prefix according to index"
      ]
    },
    {
      "cell_type": "code",
      "metadata": {
        "id": "yrKVdJuAITQY",
        "outputId": "640b0112-7414-43c3-fd8a-4a255e74ce6f"
      },
      "source": [
        " max_commen=\"\"\n",
        "\n",
        "def Control(x=None, y=None, strr=None):\n",
        "    global max_commen\n",
        "    \n",
        "    if x is not None and y is not None:\n",
        "        empty_list=[]\n",
        "        for st in strr:\n",
        "            empty_list.append(st[x:y+1])\n",
        "        if len(list(set(empty_list)))==1 and len(empty_list)==len(strr) and len(empty_list[0])>len(max_commen):\n",
        "            max_commen=empty_list[0]\n",
        "       \n",
        "            \n",
        "    if x is not None and y==None:\n",
        "        empty_list=[]\n",
        "        for st in strr:\n",
        "            try:\n",
        "                empty_list.append(st[x])\n",
        "            except Exception as e:\n",
        "                pass\n",
        "            \n",
        "        if len(list(set(empty_list)))==1 and len(empty_list)==len(strr) and len(empty_list[0])>len(max_commen):\n",
        "            max_commen=empty_list[0]\n",
        "        \n",
        "    return max_commen\n",
        "        \n",
        "        \n",
        "def FindCOmmon(strs):           \n",
        "    \n",
        "\n",
        "    max_length=0\n",
        "    max_word=None\n",
        "\n",
        "    for i in strs:\n",
        "        if len(i)>max_length:\n",
        "            max_length=len(i)\n",
        "            max_word=i\n",
        "\n",
        "\n",
        "\n",
        "\n",
        "    for i,x in enumerate(max_word):\n",
        "        \n",
        "        res=Control(x=max_word.index(x),strr=strs)\n",
        "\n",
        "        for j,y in enumerate(max_word[i+1:]):\n",
        "            res=Control(x=max_word.index(x),y=max_word.index(y),strr=strs)\n",
        "            \n",
        "    return res\n",
        "            \n",
        "            \n",
        "            \n",
        "strs = [\"flower\",\"flow\",\"flight\"]\n",
        "\n",
        "FindCOmmon(strs)"
      ],
      "execution_count": null,
      "outputs": [
        {
          "output_type": "execute_result",
          "data": {
            "text/plain": [
              "'fl'"
            ]
          },
          "metadata": {
            "tags": []
          },
          "execution_count": 301
        }
      ]
    },
    {
      "cell_type": "markdown",
      "metadata": {
        "id": "fTpmMXC9ITQY"
      },
      "source": [
        "# Quick Sort"
      ]
    },
    {
      "cell_type": "code",
      "metadata": {
        "id": "iqrSEXgNITQY",
        "outputId": "16eb1356-8341-4107-e7ca-447e376731b3"
      },
      "source": [
        "import time\n",
        "\n",
        "def QuickSort(listing):\n",
        "    time.sleep(1)\n",
        "\n",
        "    left_list=[]\n",
        "    right_list=[]\n",
        "    \n",
        "    if len(listing)<=1:\n",
        "        return listing\n",
        "    else:\n",
        "        las_item =listing.pop()\n",
        "    for item in listing:\n",
        "        \n",
        "        if item>=las_item:\n",
        "            right_list.append(item)\n",
        "        else:\n",
        "            left_list.append(item)\n",
        "    return QuickSort(left_list)+[las_item]+QuickSort(right_list)   \n",
        "\n",
        "deneme=[12,8,89,24,12,35]\n",
        "print(QuickSort(deneme))"
      ],
      "execution_count": null,
      "outputs": [
        {
          "output_type": "stream",
          "text": [
            "listing [12, 8, 89, 24, 12, 35]\n",
            "listing [12, 8, 24, 12]\n",
            "listing [8]\n",
            "listing [12, 24]\n",
            "listing [12]\n",
            "listing []\n",
            "listing [89]\n",
            "[8, 12, 12, 24, 35, 89]\n"
          ],
          "name": "stdout"
        }
      ]
    },
    {
      "cell_type": "markdown",
      "metadata": {
        "id": "2rH82K_6ITQY"
      },
      "source": [
        "# 137. Single Number II"
      ]
    },
    {
      "cell_type": "code",
      "metadata": {
        "id": "-dpYueiOITQZ"
      },
      "source": [
        "class Solution(object):\n",
        "    def singleNumber(self, nums):\n",
        "        \"\"\"\n",
        "        :type nums: List[int]\n",
        "        :rtype: int\n",
        "        \"\"\"\n",
        "        my_dict={}\n",
        "        for num in nums:\n",
        "            if num in my_dict:\n",
        "                my_dict[num]+=1\n",
        "            else:\n",
        "                my_dict[num]=1\n",
        "        for keys,values in my_dict.items():\n",
        "            if values==1:\n",
        "                return keys"
      ],
      "execution_count": null,
      "outputs": []
    },
    {
      "cell_type": "markdown",
      "metadata": {
        "id": "_GooniSCITQZ"
      },
      "source": [
        "# 896. Monotonic Array"
      ]
    },
    {
      "cell_type": "code",
      "metadata": {
        "id": "O2Mn0YOOITQZ",
        "outputId": "a0b9459b-4059-4010-cd51-5efd13298cf7"
      },
      "source": [
        "asm=[6,5,4,4]\n",
        "\n",
        "def Control(dr, ls):\n",
        "    if dr==\"r\":\n",
        "        for i in range(len(ls)-1):\n",
        "            if ls[i+1]>=ls[i]:\n",
        "                pass\n",
        "            else:\n",
        "                return False\n",
        "        return True\n",
        "    if dr==\"l\":\n",
        "        for i in range(len(ls)-1):\n",
        "            if ls[i+1]<=ls[i]:\n",
        "                \n",
        "                pass\n",
        "            else:\n",
        "                return False\n",
        "        return True\n",
        "    \n",
        "            \n",
        "\n",
        "direction=\"\"\n",
        "for i in range(len(asm)):\n",
        "    if direction==\"\" and asm[i]<asm[i+1]:\n",
        "        direction=\"r\"\n",
        "    if direction==\"\" and asm[i]>asm[i+1]:\n",
        "        direction=\"l\"\n",
        "print(Control(direction, asm))\n",
        " "
      ],
      "execution_count": null,
      "outputs": [
        {
          "output_type": "stream",
          "text": [
            "True\n"
          ],
          "name": "stdout"
        }
      ]
    },
    {
      "cell_type": "markdown",
      "metadata": {
        "id": "g-uju7IlJDIP"
      },
      "source": [
        "#200. Number of Islands\n",
        "\"\"\"An island is surrounded by water and is formed by connecting adjacent lands horizontally or vertically. You may assume all four edges of the grid are all surrounded by water.\"\"\""
      ]
    },
    {
      "cell_type": "code",
      "metadata": {
        "id": "jqR6KuoFITQZ"
      },
      "source": [
        "class Solution:\n",
        "    def numIslands(self, grid: List[List[str]]) -> int:\n",
        "        def helperfunc(i,j,grid):\n",
        "            if i>=0 and j>=0 and i<len(grid) and j<len(grid[i]) and grid[i][j]==\"1\":\n",
        "                grid[i][j]=\"-1\"\n",
        "                helperfunc(i+1,j,grid)\n",
        "                helperfunc(i-1,j,grid)\n",
        "                helperfunc(i,j+1,grid)\n",
        "                helperfunc(i,j-1,grid)\n",
        "            \n",
        "        \n",
        "        num_of_island=0\n",
        "        for i in range(len(grid)):\n",
        "            for j in range(len(grid[i])):\n",
        "                if grid[i][j]=='1':\n",
        "                    num_of_island+=1\n",
        "                    helperfunc(i,j ,grid)\n",
        "        return num_of_island"
      ],
      "execution_count": null,
      "outputs": []
    },
    {
      "cell_type": "markdown",
      "metadata": {
        "id": "SMR_Z-UvJI_H"
      },
      "source": [
        "#55 Jump Game \n"
      ]
    },
    {
      "cell_type": "code",
      "metadata": {
        "id": "DvCMgeN3JRfd"
      },
      "source": [
        "class Solution:\n",
        "    def majorityElement(self, nums: List[int]) -> int:\n",
        "        treshold=len(nums)/2 #1.5\n",
        "        collections={}\n",
        "        max_value=0\n",
        "        max_key=0\n",
        "        #{3:2,2:1}\n",
        "        for item in nums:\n",
        "            if item not in collections:\n",
        "                collections[item]=1\n",
        "            else:\n",
        "                collections[item]+=1\n",
        "        for key, values in collections.items():\n",
        "            if values>treshold or values>max_value:\n",
        "                #3,2\n",
        "                max_value=values #2\n",
        "                max_key=key #3\n",
        "        return max_key\n",
        "\n",
        "\n",
        "            "
      ],
      "execution_count": null,
      "outputs": []
    },
    {
      "cell_type": "markdown",
      "metadata": {
        "id": "Kgry0X3LJxUu"
      },
      "source": [
        "\n",
        "132 Gas Station"
      ]
    },
    {
      "cell_type": "code",
      "metadata": {
        "id": "nyXH7uonJqvi"
      },
      "source": [
        "\n",
        "class Solution:\n",
        "    def canCompleteCircuit(self, gas: List[int], cost: List[int]) -> int:\n",
        "        index_of_station=len(gas) #5\n",
        "        start_index=None\n",
        "        for i in range(index_of_station):\n",
        "            if gas[i]-cost[i]>=0:\n",
        "                start_index=i\n",
        "                actual_gas=0\n",
        "                for j in range(index_of_station):\n",
        "                    rel_index=j+start_index\n",
        "                    if rel_index>index_of_station-1:\n",
        "                            rel_index=rel_index-index_of_station\n",
        "                    actual_gas=actual_gas+gas[rel_index]-cost[rel_index]\n",
        "\n",
        "                    if actual_gas<0:\n",
        "                        break\n",
        "                    if j == index_of_station-1 and actual_gas>=0:\n",
        "                        return start_index\n",
        "                    \n",
        "                    \n",
        "        return -1\n",
        "                   \n"
      ],
      "execution_count": null,
      "outputs": []
    },
    {
      "cell_type": "markdown",
      "metadata": {
        "id": "iiefWhu7KDXx"
      },
      "source": [
        "# Java Solution  1725. Number Of Rectangles That Can Form The Largest Square"
      ]
    },
    {
      "cell_type": "code",
      "metadata": {
        "id": "AdUmoyBmJ_a9"
      },
      "source": [
        "\n",
        "class Solution {\n",
        "    public int countGoodRectangles(int[][] rectangles) {\n",
        "        Map<Integer,Integer> hashmap= new HashMap<Integer,Integer>();\n",
        "        \n",
        "        for (int [] rectangle:rectangles){\n",
        "            int min_val=Math.min(rectangle[0],rectangle[1]);\n",
        "            \n",
        "            int count=hashmap.containsKey(min_val)?hashmap.get(min_val):0;\n",
        "            hashmap.put(min_val,count+1);\n",
        "            \n",
        "        }\n",
        "        List<Integer> hasharr = new ArrayList<Integer>(hashmap.keySet());\n",
        "        \n",
        "         return hashmap.get(Collections.max(hasharr));\n",
        "    }\n",
        "}     \n",
        "   \n",
        "\n"
      ],
      "execution_count": null,
      "outputs": []
    },
    {
      "cell_type": "markdown",
      "metadata": {
        "id": "QS_bHPG9KP3O"
      },
      "source": [
        "#1742. Maximum Number of Balls in a Box"
      ]
    },
    {
      "cell_type": "code",
      "metadata": {
        "id": "GU_zDkQxKM4T"
      },
      "source": [
        "\n",
        "##Python \n",
        "class Solution:\n",
        "    def countBalls(self, lowLimit: int, highLimit: int) -> int:\n",
        "        empty_dict={}\n",
        "        for i in range( lowLimit, highLimit+1,+1):\n",
        "            starter=0\n",
        "            for j in str(i):\n",
        "                starter+=int(j)\n",
        "            if starter not in empty_dict:\n",
        "                empty_dict[starter]=1\n",
        "            else:\n",
        "                empty_dict[starter]+=1\n",
        "        return max(empty_dict.values())\n",
        "\n",
        "## Java \n",
        "class Solution {\n",
        "    public int countBalls(int lowLimit, int highLimit) {\n",
        "        Map<Integer,Integer> hashmap= new HashMap<>();\n",
        "        \n",
        "        for(int i=lowLimit; i<highLimit+1; i++){\n",
        "            int sum_digits=sum_of_digit(i);\n",
        "            int counter=hashmap.containsKey(sum_digits)?hashmap.get(sum_digits):0;\n",
        "            hashmap.put(sum_digits,counter+1);\n",
        "                \n",
        "        }\n",
        "        \n",
        "        return Collections.max(hashmap.values());\n",
        "    }\n",
        "    public int sum_of_digit(int nums){\n",
        "        int sum=0;\n",
        "        while(nums>0){\n",
        "            sum= sum+nums % 10;\n",
        "            nums=nums/10;\n",
        "            \n",
        "        }\n",
        "        return sum;\n",
        "    }\n",
        "}\n",
        "                \n"
      ],
      "execution_count": null,
      "outputs": []
    },
    {
      "cell_type": "markdown",
      "metadata": {
        "id": "C4Fnzrg7KgYm"
      },
      "source": [
        "#####206. Reverse Linked List"
      ]
    },
    {
      "cell_type": "code",
      "metadata": {
        "id": "aJEx1d80KdHd"
      },
      "source": [
        "\n",
        "class Solution:\n",
        "    def reverseList(self, head: ListNode) -> ListNode:\n",
        "        prev=None\n",
        "        while head:\n",
        "            temp=head\n",
        "            head=head.next\n",
        "            temp.next=prev\n",
        "            prev=temp\n",
        "        return prev\n",
        "            \n"
      ],
      "execution_count": null,
      "outputs": []
    },
    {
      "cell_type": "markdown",
      "metadata": {
        "id": "Ipc897aSKpfF"
      },
      "source": [
        "# 700. Search in a Binary Search Tree"
      ]
    },
    {
      "cell_type": "code",
      "metadata": {
        "id": "6rw1AQAcKlj1"
      },
      "source": [
        "\n",
        "\n",
        "# Definition for a binary tree node.\n",
        "# class TreeNode:\n",
        "#     def __init__(self, val=0, left=None, right=None):\n",
        "#         self.val = val\n",
        "#         self.left = left\n",
        "#         self.right = right\n",
        "class Solution:\n",
        "    def searchBST(self, root: TreeNode, val: int) -> TreeNode:\n",
        "        self.result=None\n",
        "        def helperfunc(root):\n",
        "            if root is None:\n",
        "                return\n",
        "            if root and root.val==val:\n",
        "                self.result=root\n",
        "            helperfunc(root.right)\n",
        "            helperfunc(root.left)\n",
        "            \n",
        "            \n",
        "        helperfunc(root)\n",
        "        return self.result\n",
        "            \n",
        "\n"
      ],
      "execution_count": null,
      "outputs": []
    },
    {
      "cell_type": "markdown",
      "metadata": {
        "id": "zH3W1SKdK1kv"
      },
      "source": [
        "### 98 Validate Binary Tree"
      ]
    },
    {
      "cell_type": "code",
      "metadata": {
        "id": "8vC2InjwKwvM"
      },
      "source": [
        "\n",
        "\n",
        "# Definition for a binary tree node.\n",
        "# class TreeNode:\n",
        "#     def __init__(self, val=0, left=None, right=None):\n",
        "#         self.val = val\n",
        "#         self.left = left\n",
        "#         self.right = right\n",
        "class Solution:\n",
        "    def isValidBST(self, root: TreeNode) -> bool:\n",
        "        def helperfunc(root):\n",
        "            if not root:\n",
        "                return True\n",
        "            if root.val>root.val:\n",
        "                return False\n",
        "            if root.right.val<root.val:\n",
        "                return False   \n",
        "        \n",
        "            return helperfunc(root.left) and helperfunc(root.right)\n",
        "        return helperfunc(root)\n",
        "\n"
      ],
      "execution_count": null,
      "outputs": []
    },
    {
      "cell_type": "markdown",
      "metadata": {
        "id": "S0srec1SLlFn"
      },
      "source": [
        "# 142. Linked List Cycle 2"
      ]
    },
    {
      "cell_type": "code",
      "metadata": {
        "id": "E9K0FsnKLPCT"
      },
      "source": [
        "\n",
        "\n",
        "# Definition for singly-linked list.\n",
        "# class ListNode:\n",
        "#     def __init__(self, x):\n",
        "#         self.val = x\n",
        "#         self.next = None\n",
        "\n",
        "class Solution:\n",
        "    def detectCycle(self, head: ListNode) -> ListNode:\n",
        "        fast, slow =head, head\n",
        "        while fast and fast.next:\n",
        "            slow, fast=slow.next, fast.next.next\n",
        "            if slow== fast:\n",
        "                break\n",
        "        else:\n",
        "            return \n",
        "        pointer=head\n",
        "        \n",
        "        while pointer!=slow:\n",
        "            pointer=pointer.next\n",
        "            slow=slow.next\n",
        "        return pointer\n"
      ],
      "execution_count": null,
      "outputs": []
    },
    {
      "cell_type": "markdown",
      "metadata": {
        "id": "c9cWs5GPLf5R"
      },
      "source": [
        "# 141 LInked List Cycle "
      ]
    },
    {
      "cell_type": "code",
      "metadata": {
        "id": "ypNCRPAYLYOI"
      },
      "source": [
        "\n",
        "\n",
        "# Definition for singly-linked list.\n",
        "# class ListNode:\n",
        "#     def __init__(self, x):\n",
        "#         self.val = x\n",
        "#         self.next = None\n",
        "\n",
        "class Solution:\n",
        "    def hasCycle(self, head: ListNode) -> bool:\n",
        "        fast, slow=head, head\n",
        "       \n",
        "        \n",
        "        while fast and fast.next:\n",
        "            print(fast.next.next.val,fast.next.val)\n",
        "            fast, slow= fast.next.next, slow.next\n",
        "            \n",
        "            if fast==slow:\n",
        "                return True\n",
        "        return False\n",
        "        \n",
        "\n"
      ],
      "execution_count": null,
      "outputs": []
    },
    {
      "cell_type": "markdown",
      "metadata": {
        "id": "lhZQKwMuLx9a"
      },
      "source": [
        "#  547 Number of Proviences"
      ]
    },
    {
      "cell_type": "code",
      "metadata": {
        "id": "_eF4DXNQLu51"
      },
      "source": [
        "\n",
        "\n",
        "class Solution:\n",
        "    def findCircleNum(self, isConnected: List[List[int]]) -> int:\n",
        "        visited_city={}\n",
        "        proviences=0\n",
        "        for i in range(len(isConnected)):\n",
        "            if i not in visited_city:\n",
        "                visited_city[i]=False\n",
        "        \n",
        "        def helperfunc(city, city_connections):  \n",
        "            visited_city[city]=True\n",
        "            for cities ,item  in enumerate(city_connections): \n",
        "                if item==1 and  not visited_city[cities] :\n",
        "                    helperfunc(cities,isConnected[cities])\n",
        "        for city, city_connections in enumerate(isConnected):\n",
        "            if  not visited_city[city]:\n",
        "                proviences+=1\n",
        "                helperfunc(city,city_connections)\n",
        "            \n",
        "        \n",
        "        return proviences\n"
      ],
      "execution_count": null,
      "outputs": []
    },
    {
      "cell_type": "markdown",
      "metadata": {
        "id": "R5WGgciLL4yk"
      },
      "source": [
        "# 1748. Sum of Unique Elements"
      ]
    },
    {
      "cell_type": "code",
      "metadata": {
        "id": "DKwqTN65L3Br"
      },
      "source": [
        "\n",
        "class Solution:\n",
        "    def sumOfUnique(self, nums: List[int]) -> int:\n",
        "        empty_dict={}\n",
        "        \n",
        "        for i in nums:\n",
        "            if i not in empty_dict:\n",
        "                empty_dict[i]=1\n",
        "            else:\n",
        "                empty_dict[i]+=1\n",
        "        total_sum=0     \n",
        "        print(empty_dict)\n",
        "        for keys,values in empty_dict.items():\n",
        "            if values==1:\n",
        "                total_sum+=keys\n",
        "        return total_sum"
      ],
      "execution_count": null,
      "outputs": []
    }
  ]
}